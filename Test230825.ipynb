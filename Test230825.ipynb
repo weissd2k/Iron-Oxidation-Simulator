{
  "nbformat": 4,
  "nbformat_minor": 0,
  "metadata": {
    "colab": {
      "provenance": [],
      "authorship_tag": "ABX9TyNifp/ZDd/U2sTTuh1+uMtP",
      "include_colab_link": true
    },
    "kernelspec": {
      "name": "python3",
      "display_name": "Python 3"
    },
    "language_info": {
      "name": "python"
    }
  },
  "cells": [
    {
      "cell_type": "markdown",
      "metadata": {
        "id": "view-in-github",
        "colab_type": "text"
      },
      "source": [
        "<a href=\"https://colab.research.google.com/github/weissd2k/Iron-Oxidation-Simulator/blob/main/Test230825.ipynb\" target=\"_parent\"><img src=\"https://colab.research.google.com/assets/colab-badge.svg\" alt=\"Open In Colab\"/></a>"
      ]
    },
    {
      "cell_type": "code",
      "source": [
        "!pip install PyQt5"
      ],
      "metadata": {
        "colab": {
          "base_uri": "https://localhost:8080/"
        },
        "id": "v2GVDb20_6Vz",
        "outputId": "8a4a2573-b14d-469e-b9fb-8a3014852270"
      },
      "execution_count": 2,
      "outputs": [
        {
          "output_type": "stream",
          "name": "stdout",
          "text": [
            "Collecting PyQt5\n",
            "  Downloading PyQt5-5.15.9-cp37-abi3-manylinux_2_17_x86_64.whl (8.4 MB)\n",
            "\u001b[2K     \u001b[90m━━━━━━━━━━━━━━━━━━━━━━━━━━━━━━━━━━━━━━━━\u001b[0m \u001b[32m8.4/8.4 MB\u001b[0m \u001b[31m16.0 MB/s\u001b[0m eta \u001b[36m0:00:00\u001b[0m\n",
            "\u001b[?25hCollecting PyQt5-sip<13,>=12.11 (from PyQt5)\n",
            "  Downloading PyQt5_sip-12.12.2-cp310-cp310-manylinux_2_5_x86_64.manylinux1_x86_64.whl (337 kB)\n",
            "\u001b[2K     \u001b[90m━━━━━━━━━━━━━━━━━━━━━━━━━━━━━━━━━━━━━━\u001b[0m \u001b[32m337.9/337.9 kB\u001b[0m \u001b[31m31.0 MB/s\u001b[0m eta \u001b[36m0:00:00\u001b[0m\n",
            "\u001b[?25hCollecting PyQt5-Qt5>=5.15.2 (from PyQt5)\n",
            "  Downloading PyQt5_Qt5-5.15.2-py3-none-manylinux2014_x86_64.whl (59.9 MB)\n",
            "\u001b[2K     \u001b[90m━━━━━━━━━━━━━━━━━━━━━━━━━━━━━━━━━━━━━━━━\u001b[0m \u001b[32m59.9/59.9 MB\u001b[0m \u001b[31m17.7 MB/s\u001b[0m eta \u001b[36m0:00:00\u001b[0m\n",
            "\u001b[?25hInstalling collected packages: PyQt5-Qt5, PyQt5-sip, PyQt5\n",
            "Successfully installed PyQt5-5.15.9 PyQt5-Qt5-5.15.2 PyQt5-sip-12.12.2\n"
          ]
        }
      ]
    },
    {
      "cell_type": "code",
      "execution_count": 3,
      "metadata": {
        "id": "tJckTvWh_jqB"
      },
      "outputs": [],
      "source": [
        "\"\"\"\n",
        "initial_rate.py\n",
        "----------------------\n",
        "Author: Dongzi Ding\n",
        "Created: 2023-06-25\n",
        "Modified: 2023-08-14\n",
        "\"\"\"\n",
        "\n",
        "import numpy as np\n",
        "import pandas as pd\n",
        "from sklearn.linear_model import LinearRegression\n",
        "import matplotlib.pyplot as plt\n",
        "from matplotlib.backends.backend_agg import FigureCanvasAgg as FigureCanvas\n",
        "from PyQt5.QtGui import QPixmap, QImage\n",
        "\n",
        "\n",
        "def read_data(filename):\n",
        "    \"\"\"\n",
        "    Reads experimental data from an Excel file.\n",
        "\n",
        "    Parameters:\n",
        "        - filename (str): Path to the Excel file.\n",
        "\n",
        "    Returns:\n",
        "        Arrays of time and concentration values.\n",
        "    \"\"\"\n",
        "    try:\n",
        "        data = pd.read_excel(filename)\n",
        "        time = data.iloc[:, 0].values\n",
        "        conc = data.iloc[:, 1].values\n",
        "        return time, conc\n",
        "    except Exception as e:\n",
        "        print(f\"Error reading file {filename}: {e}\")\n",
        "        return None\n",
        "\n",
        "\n",
        "def calculate_rate(time, conc, threshold):\n",
        "    \"\"\"\n",
        "    Calculates the rate of a reaction using linear regression on a subset of data.\n",
        "\n",
        "    Parameters:\n",
        "        - time (array): Time data.\n",
        "        - conc (array): Concentration data.\n",
        "        - threshold (float): Percentage of data to use for regression.\n",
        "\n",
        "    Returns:\n",
        "        Dictionary containing time, concentration, slope, intercept, and R squared values.\n",
        "    \"\"\"\n",
        "    cur_time, cur_conc = cut_data(time, conc, threshold)\n",
        "    time_2d = np.array(time).reshape(-1, 1)\n",
        "    cur_time = np.array(cur_time).reshape(-1, 1)\n",
        "    model = LinearRegression()\n",
        "    model.fit(cur_time, cur_conc)\n",
        "    slope = model.coef_[0]\n",
        "    intercept = model.intercept_\n",
        "    r_squared = model.score(time_2d, conc)\n",
        "\n",
        "    return {\n",
        "        'time': time,\n",
        "        'conc': conc,\n",
        "        'slope': slope,\n",
        "        'intercept': intercept,\n",
        "        'r_squared': r_squared\n",
        "    }\n",
        "\n",
        "\n",
        "def calculate_rate_compare(time, conc):\n",
        "    \"\"\"\n",
        "    Calculates rates using different thresholds and compares the fits.\n",
        "\n",
        "    Parameters:\n",
        "        - time (array): Time data.\n",
        "        - conc (array): Concentration data.\n",
        "\n",
        "    Returns:\n",
        "        Dictionary containing time, concentration, slopes, intercepts, and R squared values for each threshold.\n",
        "    \"\"\"\n",
        "    threshold_array = np.arange(0.05, 0.2, 0.01)\n",
        "    slopes, intercepts, r_squared_values = [], [], []\n",
        "    time_2d = np.array(time).reshape(-1, 1)\n",
        "    for threshold in threshold_array:\n",
        "        cur_time, cur_conc = cut_data(time, conc, threshold)\n",
        "        cur_time = np.array(cur_time).reshape(-1, 1)\n",
        "        model = LinearRegression()\n",
        "        model.fit(cur_time, cur_conc)\n",
        "        slopes.append(model.coef_[0])\n",
        "        intercepts.append(model.intercept_)\n",
        "        r_squared_values.append(model.score(time_2d, conc))\n",
        "\n",
        "    return {\n",
        "        'time': time,\n",
        "        'conc': conc,\n",
        "        'slopes': slopes,\n",
        "        'intercepts': intercepts,\n",
        "        'r_squared_values': r_squared_values\n",
        "    }\n",
        "\n",
        "\n",
        "def cut_data(time, conc, threshold):\n",
        "    \"\"\"\n",
        "    Filters time and concentration data based on a threshold.\n",
        "\n",
        "    Parameters:\n",
        "        - time (array): Time data.\n",
        "        - conc (array): Concentration data.\n",
        "        - threshold (float): Threshold value for filtering.\n",
        "\n",
        "    Returns:\n",
        "        Filtered arrays of time and concentration values.\n",
        "    \"\"\"\n",
        "    conc = np.array(conc)\n",
        "    time = np.array(time)\n",
        "    conc_l, conc_h = conc[0], conc[-1]\n",
        "    try:\n",
        "        if conc_h > conc_l:  # 如果浓度是上升的\n",
        "            mask = (conc - conc_l) <= (conc_h - conc_l) * threshold[0]\n",
        "        else:  # 如果浓度是下降的\n",
        "            mask = (conc_l - conc) <= (conc_l - conc_h) * threshold[0]\n",
        "    except:\n",
        "        if conc_h > conc_l:  # 如果浓度是上升的\n",
        "            mask = (conc - conc_l) <= (conc_h - conc_l) * threshold\n",
        "        else:  # 如果浓度是下降的\n",
        "            mask = (conc_l - conc) <= (conc_l - conc_h) * threshold\n",
        "\n",
        "    return time[mask], conc[mask]\n",
        "\n",
        "\n",
        "def plot_initial_rate(time, conc, slope, intercept, r_squared):\n",
        "    \"\"\"\n",
        "    Generates a plot of the initial reaction rate.\n",
        "\n",
        "    Parameters:\n",
        "        - time (array): Time data.\n",
        "        - conc (array): Concentration data.\n",
        "        - slope (float): Slope from linear regression.\n",
        "        - intercept (float): Intercept from linear regression.\n",
        "        - r_squared (float): R squared value from linear regression.\n",
        "\n",
        "    Returns:\n",
        "        A QPixmap object containing the plot.\n",
        "    \"\"\"\n",
        "    time = np.array(time)\n",
        "\n",
        "    fig, ax = plt.subplots(figsize=(6, 4))\n",
        "\n",
        "    ax.scatter(time, conc, label=\"Data points\", color=\"blue\")\n",
        "    ax.plot(time, slope * time + intercept, '-', color=\"red\",\n",
        "            label=f\"Fit: y = {slope:.2f}x + {intercept:.2f}, R^2 = {r_squared:.2f}\")\n",
        "\n",
        "    ax.set_xlabel('Time')\n",
        "    ax.set_ylabel('Concentration')\n",
        "    ax.legend(loc=\"best\")\n",
        "\n",
        "    canvas = FigureCanvas(fig)\n",
        "    canvas.draw()\n",
        "    width, height = fig.get_size_inches() * fig.get_dpi()\n",
        "    image = QImage(canvas.buffer_rgba(), width, height, QImage.Format_ARGB32)\n",
        "    pixmap = QPixmap.fromImage(image)\n",
        "\n",
        "    return pixmap\n",
        "\n",
        "\n",
        "def plot_rate_comparison(time, conc, slopes, intercepts, r_squared_values):\n",
        "    \"\"\"\n",
        "    Generates a plot comparing reaction rates for different thresholds.\n",
        "\n",
        "    Parameters:\n",
        "        - time (array): Time data.\n",
        "        - conc (array): Concentration data.\n",
        "        - slopes (list): List of slopes from linear regressions.\n",
        "        - intercepts (list): List of intercepts from linear regressions.\n",
        "        - r_squared_values (list): List of R squared values from linear regressions.\n",
        "\n",
        "    Returns:\n",
        "        A QPixmap object containing the comparison plot.\n",
        "    \"\"\"\n",
        "    time = np.array(time)\n",
        "\n",
        "    fig, ax = plt.subplots(figsize=(6, 4))\n",
        "\n",
        "    threshold_array = np.arange(0.05, 0.2, 0.01)\n",
        "    max_r2_index = np.argmax(r_squared_values)\n",
        "    min_r2_index = np.argmin(r_squared_values)\n",
        "\n",
        "    for i, (slope, intercept) in enumerate(zip(slopes, intercepts)):\n",
        "        if i == max_r2_index or i == min_r2_index:\n",
        "            ax.plot(time, slope * time + intercept,\n",
        "                    label=f\"Threshold: {threshold_array[i]:.2f}, R^2 = {r_squared_values[i]:.2f}\")\n",
        "        else:\n",
        "            ax.plot(time, slope * time + intercept, alpha=0.6)  # Use lower alpha for other lines\n",
        "\n",
        "    ax.scatter(time, conc, label=\"Data points\", color=\"blue\")\n",
        "    ax.legend(loc=\"best\")\n",
        "    ax.set_xlabel('Time')\n",
        "    ax.set_ylabel('Concentration')\n",
        "\n",
        "    canvas = FigureCanvas(fig)\n",
        "    canvas.draw()\n",
        "    width, height = fig.get_size_inches() * fig.get_dpi()\n",
        "    image = QImage(canvas.buffer_rgba(), width, height, QImage.Format_ARGB32)\n",
        "    pixmap = QPixmap.fromImage(image)\n",
        "\n",
        "    return pixmap"
      ]
    },
    {
      "cell_type": "code",
      "source": [
        "!pwd"
      ],
      "metadata": {
        "colab": {
          "base_uri": "https://localhost:8080/"
        },
        "id": "Ej0wOe-bAc-C",
        "outputId": "037043ec-c670-420c-fd8d-58ebe4d0e7aa"
      },
      "execution_count": 4,
      "outputs": [
        {
          "output_type": "stream",
          "name": "stdout",
          "text": [
            "/content\n"
          ]
        }
      ]
    },
    {
      "cell_type": "code",
      "source": [
        "read_data('Book3.xlsx')"
      ],
      "metadata": {
        "colab": {
          "base_uri": "https://localhost:8080/"
        },
        "id": "cStoxDpmBGVY",
        "outputId": "a6cd4973-ef46-4092-c75b-0b9ebb5376a7"
      },
      "execution_count": 6,
      "outputs": [
        {
          "output_type": "execute_result",
          "data": {
            "text/plain": [
              "(array([-1.58076403, -1.65803453, -1.79797391, -2.08061391]),\n",
              " array([0.04306579, 0.03582001, 0.0678972 , 0.2111968 ]))"
            ]
          },
          "metadata": {},
          "execution_count": 6
        }
      ]
    }
  ]
}